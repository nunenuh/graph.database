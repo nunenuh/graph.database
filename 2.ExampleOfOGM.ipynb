{
 "cells": [
  {
   "cell_type": "code",
   "execution_count": 1,
   "metadata": {},
   "outputs": [],
   "source": [
    "%matplotlib inline\n",
    "%reload_ext autoreload\n",
    "%autoreload 2"
   ]
  },
  {
   "cell_type": "code",
   "execution_count": 6,
   "metadata": {},
   "outputs": [],
   "source": [
    "import py2neo\n",
    "from py2neo import Graph, Database\n",
    "from py2neo.data import Node, Relationship\n",
    "from py2neo import ogm\n",
    "from scripts.vis import vis_network, draw"
   ]
  },
  {
   "cell_type": "code",
   "execution_count": 66,
   "metadata": {},
   "outputs": [],
   "source": [
    "#making connection to neo4j\n",
    "graph = Graph(\"bolt://localhost:11001\", user=\"neo4j\", password=\"123456\")"
   ]
  },
  {
   "cell_type": "code",
   "execution_count": 26,
   "metadata": {},
   "outputs": [],
   "source": [
    "class Movie(ogm.GraphObject):\n",
    "    __primarykey__ = \"title\"\n",
    "\n",
    "    title = ogm.Property()\n",
    "    tag_line = ogm.Property(\"tagline\")\n",
    "    released = ogm.Property()\n",
    "\n",
    "    actors = ogm.RelatedFrom(\"Person\", \"ACTED_IN\")\n",
    "    directors = ogm.RelatedFrom(\"Person\", \"DIRECTED\")\n",
    "    producers = ogm.RelatedFrom(\"Person\", \"PRODUCED\")\n",
    "\n",
    "\n",
    "class Person(ogm.GraphObject):\n",
    "    __primarykey__ = \"name\"\n",
    "\n",
    "    name = ogm.Property()\n",
    "    born = ogm.Property()\n",
    "\n",
    "    acted_in = ogm.RelatedTo(Movie)\n",
    "    directed = ogm.RelatedTo(Movie)\n",
    "    produced = ogm.RelatedTo(Movie)\n"
   ]
  },
  {
   "cell_type": "code",
   "execution_count": 56,
   "metadata": {},
   "outputs": [
    {
     "name": "stdout",
     "output_type": "stream",
     "text": [
      "<Person name='Keanu Reeves'>\n"
     ]
    }
   ],
   "source": [
    "keanu = Person.match(graph).where(name='Keanu Reeves').first()\n",
    "print(keanu)"
   ]
  },
  {
   "cell_type": "code",
   "execution_count": 71,
   "metadata": {},
   "outputs": [
    {
     "name": "stdout",
     "output_type": "stream",
     "text": [
      "<Person name='Keanu Reeves'>\n",
      "<Person name='Carrie-Anne Moss'>\n",
      "<Person name='Laurence Fishburne'>\n",
      "<Person name='Hugo Weaving'>\n",
      "<Person name='Lilly Wachowski'>\n"
     ]
    }
   ],
   "source": [
    "person = Person.match(graph).limit(5)\n",
    "for p in person:\n",
    "    print(p)"
   ]
  },
  {
   "cell_type": "code",
   "execution_count": 73,
   "metadata": {},
   "outputs": [],
   "source": [
    "m = Movie()\n",
    "m.title = 'Wiro Sableng 212 (2018)'\n",
    "graph.push(m)\n",
    "\n",
    "p1 = Person()\n",
    "p1.name = 'Dwi Sasono'\n",
    "p1.acted_in.add(m)\n",
    "graph.push(p1)\n",
    "\n",
    "p2 = Person()\n",
    "p2.name = 'Yayan Ruhiyan'\n",
    "p2.acted_in.add(m)\n",
    "graph.push(p2)"
   ]
  },
  {
   "cell_type": "code",
   "execution_count": 75,
   "metadata": {},
   "outputs": [],
   "source": [
    "wiro = Movie.match(graph).where(title=\"Wiro Sableng 212 (2018)\").first()\n",
    "vino  = Person()\n",
    "vino.name = 'Vino Bastian'\n",
    "vino.acted_in.add(wiro)\n",
    "graph.push(vino)"
   ]
  },
  {
   "cell_type": "code",
   "execution_count": 77,
   "metadata": {},
   "outputs": [],
   "source": [
    "wiro = Movie.match(graph).where(title=\"Wiro Sableng 212 (2018)\").first()\n",
    "angga  = Person()\n",
    "angga.name = 'Angga Dwimas Sasongko'\n",
    "angga.directed.add(wiro)\n",
    "graph.push(angga)"
   ]
  },
  {
   "cell_type": "code",
   "execution_count": null,
   "metadata": {},
   "outputs": [],
   "source": []
  },
  {
   "cell_type": "code",
   "execution_count": null,
   "metadata": {},
   "outputs": [],
   "source": []
  }
 ],
 "metadata": {
  "kernelspec": {
   "display_name": "Python 3",
   "language": "python",
   "name": "python3"
  },
  "language_info": {
   "codemirror_mode": {
    "name": "ipython",
    "version": 3
   },
   "file_extension": ".py",
   "mimetype": "text/x-python",
   "name": "python",
   "nbconvert_exporter": "python",
   "pygments_lexer": "ipython3",
   "version": "3.6.8"
  }
 },
 "nbformat": 4,
 "nbformat_minor": 2
}
