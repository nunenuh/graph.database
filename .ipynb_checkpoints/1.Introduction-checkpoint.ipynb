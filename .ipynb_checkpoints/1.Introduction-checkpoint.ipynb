{
 "cells": [
  {
   "cell_type": "markdown",
   "metadata": {},
   "source": [
    "# Using py2neo with Neo4J Database\n",
    "This notebook is designed for run py2neo with neo4j database. In py2neo, there are graph module for connecting and run cypher query, while in data module py2neo has Node and Relationship class for declaring node and make relationship between node. Through this notebook, I will explain how to use py2neo to manipulate neo4j database, lets have fun!!!"
   ]
  },
  {
   "cell_type": "code",
   "execution_count": 111,
   "metadata": {},
   "outputs": [],
   "source": [
    "# lets prepare our notebook to work with local module and visualization\n",
    "%matplotlib inline\n",
    "%reload_ext autoreload\n",
    "%reload_ext cypher\n",
    "%autoreload 2"
   ]
  },
  {
   "cell_type": "code",
   "execution_count": 126,
   "metadata": {},
   "outputs": [],
   "source": [
    "#lets import py2neo module that we will use later\n",
    "import py2neo\n",
    "from py2neo import Graph, NodeMatcher\n",
    "from py2neo.data import Node, Relationship\n",
    "\n",
    "#local library from directory scripts in this repositories\n",
    "from scripts.vis import vis_network, draw"
   ]
  },
  {
   "cell_type": "markdown",
   "metadata": {},
   "source": [
    "In the code below, I made connection to neo4j database via bolt protocol in port 11004. You can change this port with neo4j desktop apps."
   ]
  },
  {
   "cell_type": "code",
   "execution_count": 113,
   "metadata": {},
   "outputs": [],
   "source": [
    "#making connection to neo4j\n",
    "graph = Graph(\"bolt://localhost:11004\", user=\"neo4j\", password=\"123456\")"
   ]
  },
  {
   "cell_type": "markdown",
   "metadata": {},
   "source": [
    "To make sure all data is empty, I choose to delete all node and its relationship. Be careful, dont RUN this on your own database without knowing what you do."
   ]
  },
  {
   "cell_type": "code",
   "execution_count": 114,
   "metadata": {},
   "outputs": [],
   "source": [
    "#delete all nodes and its realtionships, be carefull\n",
    "graph.delete_all()"
   ]
  },
  {
   "cell_type": "code",
   "execution_count": 115,
   "metadata": {},
   "outputs": [],
   "source": [
    "#defining nodes and its relationship\n",
    "f = Node(\"Person\", name=\"Fandi\")\n",
    "p = Node(\"Person\", name=\"Piko\")\n",
    "pf = Relationship(p, \"FRIEND\", f)"
   ]
  },
  {
   "cell_type": "code",
   "execution_count": 116,
   "metadata": {},
   "outputs": [],
   "source": [
    "#saving data\n",
    "tx = graph.begin()\n",
    "tx.create(f)\n",
    "tx.create(p)\n",
    "tx.create(pf)\n",
    "tx.commit()"
   ]
  },
  {
   "cell_type": "code",
   "execution_count": 123,
   "metadata": {},
   "outputs": [
    {
     "data": {
      "text/html": [
       "\n",
       "        <iframe\n",
       "            width=\"100%\"\n",
       "            height=\"400\"\n",
       "            src=\"figure/graph-645fdc04-31c0-4bff-b825-efa1764de450.html\"\n",
       "            frameborder=\"0\"\n",
       "            allowfullscreen\n",
       "        ></iframe>\n",
       "        "
      ],
      "text/plain": [
       "<IPython.lib.display.IFrame at 0x7f20f7aa5b00>"
      ]
     },
     "execution_count": 123,
     "metadata": {},
     "output_type": "execute_result"
    }
   ],
   "source": [
    "options = {\"Person\":\"name\"}\n",
    "draw(graph, options)"
   ]
  },
  {
   "cell_type": "code",
   "execution_count": 122,
   "metadata": {},
   "outputs": [
    {
     "data": {
      "text/plain": [
       "(Eby)-[:FRIEND {since: '2015'}]->(Danil)"
      ]
     },
     "execution_count": 122,
     "metadata": {},
     "output_type": "execute_result"
    }
   ],
   "source": [
    "#defining nodes and its relationship\n",
    "e = Node(\"Person\", name=\"Eby\")\n",
    "d = Node(\"Person\", name=\"Danil\")\n",
    "ed = Relationship(e, \"FRIEND\", d, since=\"2015\")\n",
    "ed"
   ]
  },
  {
   "cell_type": "code",
   "execution_count": 120,
   "metadata": {},
   "outputs": [],
   "source": [
    "#saving data\n",
    "tx = graph.begin()\n",
    "tx.create(e)\n",
    "tx.create(d)\n",
    "tx.create(ed)\n",
    "tx.commit()"
   ]
  },
  {
   "cell_type": "code",
   "execution_count": 136,
   "metadata": {},
   "outputs": [
    {
     "data": {
      "text/html": [
       "\n",
       "        <iframe\n",
       "            width=\"100%\"\n",
       "            height=\"400\"\n",
       "            src=\"figure/graph-5cd93b65-1a66-477d-a8f0-61c363443702.html\"\n",
       "            frameborder=\"0\"\n",
       "            allowfullscreen\n",
       "        ></iframe>\n",
       "        "
      ],
      "text/plain": [
       "<IPython.lib.display.IFrame at 0x7f20f7b1f630>"
      ]
     },
     "execution_count": 136,
     "metadata": {},
     "output_type": "execute_result"
    }
   ],
   "source": [
    "options = {\"Person\":\"name\"}\n",
    "draw(graph, options)"
   ]
  },
  {
   "cell_type": "code",
   "execution_count": 133,
   "metadata": {},
   "outputs": [],
   "source": [
    "f = NodeMatcher(graph)\n",
    "fandi = f.match(\"Person\", name=\"Fandi\").first()\n",
    "danil = f.match(\"Person\", name=\"Danil\").first()\n",
    "eby = f.match(\"Person\", name=\"Eby\").first()\n",
    "\n",
    "fd = Relationship(fandi, \"LECTURE\", danil)\n",
    "fe = Relationship(fandi, \"LECTURE\", eby)"
   ]
  },
  {
   "cell_type": "code",
   "execution_count": 134,
   "metadata": {},
   "outputs": [],
   "source": [
    "#saving data\n",
    "tx = graph.begin()\n",
    "tx.create(fd)\n",
    "tx.create(fe)\n",
    "tx.commit()"
   ]
  },
  {
   "cell_type": "code",
   "execution_count": 135,
   "metadata": {},
   "outputs": [
    {
     "data": {
      "text/html": [
       "\n",
       "        <iframe\n",
       "            width=\"100%\"\n",
       "            height=\"400\"\n",
       "            src=\"figure/graph-b6f061b8-f22d-4491-9153-f2cf0037cc7a.html\"\n",
       "            frameborder=\"0\"\n",
       "            allowfullscreen\n",
       "        ></iframe>\n",
       "        "
      ],
      "text/plain": [
       "<IPython.lib.display.IFrame at 0x7f20f7af9a90>"
      ]
     },
     "execution_count": 135,
     "metadata": {},
     "output_type": "execute_result"
    }
   ],
   "source": [
    "options = {\"Person\":\"name\"}\n",
    "draw(graph, options)"
   ]
  },
  {
   "cell_type": "code",
   "execution_count": null,
   "metadata": {},
   "outputs": [],
   "source": []
  }
 ],
 "metadata": {
  "kernelspec": {
   "display_name": "Python 3",
   "language": "python",
   "name": "python3"
  },
  "language_info": {
   "codemirror_mode": {
    "name": "ipython",
    "version": 3
   },
   "file_extension": ".py",
   "mimetype": "text/x-python",
   "name": "python",
   "nbconvert_exporter": "python",
   "pygments_lexer": "ipython3",
   "version": "3.6.8"
  }
 },
 "nbformat": 4,
 "nbformat_minor": 2
}
