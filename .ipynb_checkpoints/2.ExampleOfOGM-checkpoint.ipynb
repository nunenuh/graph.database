{
 "cells": [
  {
   "cell_type": "code",
   "execution_count": 1,
   "metadata": {},
   "outputs": [],
   "source": [
    "%matplotlib inline\n",
    "%reload_ext autoreload\n",
    "%autoreload 2"
   ]
  },
  {
   "cell_type": "code",
   "execution_count": 6,
   "metadata": {},
   "outputs": [],
   "source": [
    "import py2neo\n",
    "from py2neo import Graph, Database\n",
    "from py2neo.data import Node, Relationship\n",
    "from py2neo import ogm\n",
    "from scripts.vis import vis_network, draw"
   ]
  },
  {
   "cell_type": "code",
   "execution_count": 3,
   "metadata": {},
   "outputs": [],
   "source": [
    "#making connection to neo4j\n",
    "graph = Graph(\"bolt://localhost:11004\", user=\"neo4j\", password=\"123456\")"
   ]
  },
  {
   "cell_type": "code",
   "execution_count": 4,
   "metadata": {},
   "outputs": [],
   "source": [
    "class Movie(ogm.GraphObject):\n",
    "    __primarykey__ = \"title\"\n",
    "\n",
    "    title = ogm.Property()\n",
    "    tag_line = ogm.Property(\"tagline\")\n",
    "    released = ogm.Property()\n",
    "\n",
    "    actors = ogm.RelatedFrom(\"Person\", \"ACTED_IN\")\n",
    "    directors = ogm.RelatedFrom(\"Person\", \"DIRECTED\")\n",
    "    producers = ogm.RelatedFrom(\"Person\", \"PRODUCED\")\n",
    "\n",
    "\n",
    "class Person(ogm.GraphObject):\n",
    "    __primarykey__ = \"name\"\n",
    "\n",
    "    name = ogm.Property()\n",
    "    born = ogm.Property()\n",
    "\n",
    "    acted_in = ogm.RelatedTo(Movie)\n",
    "    directed = ogm.RelatedTo(Movie)\n",
    "    produced = ogm.RelatedTo(Movie)\n"
   ]
  },
  {
   "cell_type": "code",
   "execution_count": null,
   "metadata": {},
   "outputs": [],
   "source": []
  }
 ],
 "metadata": {
  "kernelspec": {
   "display_name": "Python 3",
   "language": "python",
   "name": "python3"
  },
  "language_info": {
   "codemirror_mode": {
    "name": "ipython",
    "version": 3
   },
   "file_extension": ".py",
   "mimetype": "text/x-python",
   "name": "python",
   "nbconvert_exporter": "python",
   "pygments_lexer": "ipython3",
   "version": "3.6.8"
  }
 },
 "nbformat": 4,
 "nbformat_minor": 2
}
